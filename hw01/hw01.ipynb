{
 "cells": [
  {
   "cell_type": "markdown",
   "id": "8705ec8c-a847-4cb6-af52-dfb9f116b7e7",
   "metadata": {},
   "source": [
    "https://www.ncei.noaa.gov/weather-climate-links\n",
    "U.S Local Climatological Data: \n",
    "The data is very organized into different files for each year.  These datasets contain longitude and latitude for each measurement taken, the data is for looking at climate and weather temperature trends.  Each year is in a .csv file and is up to date even with 2024 being included.  The data is easily accessible.  There isn't any restrictions on using the free .csv file, but there are charges that could apply for a monthly pdf or their Data Tool/Sample.  From this data we could probably draw conclusions for global or local temperature patterns throughout the years and possibly predict the next years based on this information.  Possible problems in this data set are the fact that it seems like pressure, precipitation, and some other columns are left blank on the table, so if you wanted to analyze that it would be near impossible."
   ]
  },
  {
   "cell_type": "markdown",
   "id": "fa0876c9-a2e6-40bc-88e6-ceba4cbc1775",
   "metadata": {},
   "source": [
    "https://data.cdc.gov/\n",
    "U.S. Life Expectancy by State and Sex for 2020: \n",
    "This data is organized into each state and the average life expectancy for that state.  It also organized them by sex which can be helpful too.  There are no restrictions for this table as the entire dataset is free and usable as a .csv format.  They also have an interactive map on the website which can help with some of the data visualization.  They also have JSON, XLS, and XML files availible.  The only problem with this dataset is that it's newest entry is the 2020 version of this data.  While that wouldn't matter for most work, if you were needing a more recent dataset that contained this information, you wouldn't look here.  The data itself looks nice though, there are no blank entries and no empty columns."
   ]
  },
  {
   "cell_type": "markdown",
   "id": "fce235a9-72dd-45b5-a284-7cc811412874",
   "metadata": {},
   "source": [
    "https://data.ca.gov/\n",
    "COVID-19 Vaccine Progress Dashboard Data: \n",
    "This data is organized by the County in California and the date.  The data is put into different buckets; total doses, cumulative total doses, partially vaccinated, total partially vaccinated, fully vaccinated, etc.  The data is very well organized and is easy to access in multiple formats including a .csv.  The problem with this data set is that it has 79.5 thousand entries, so you have to narrow your data down before performing operations.  I think this is actually a good thing overall because it shows the entire picture if you have the computing power and time to read the set.  There is no data missing here and I think it's a great dataset."
   ]
  },
  {
   "cell_type": "markdown",
   "id": "c3395db8-2302-4569-aedb-36bd2b7cbe5f",
   "metadata": {},
   "source": [
    "https://data.census.gov/ \n",
    "US Census Data Twitter Datasets: \n",
    "This data is just the raw population data for each state in the United States.  It's probably the least robust dataset I have looked at so far, but it's also the easiest to work with.  It operates like a JSON string because of the fact that for each column there are only 2 rows, the state name and the number of people living in the state.  There is no missing data which makes it a complete data set.  The only problem with this data set is it's most recent (according to this website) is from 2020.  This is actually old if you stop and think about it, as we are in 2024.  Four years can shift populations by a lot which could cause some inaccuracies when analyzing the data.  We could use this data in conjunction with other data to draw conclusions based on population to other statistics."
   ]
  },
  {
   "cell_type": "markdown",
   "id": "f5420579-411e-47f0-9763-b12d0c863534",
   "metadata": {},
   "source": [
    "https://imerit.net/blog/top-25-twitter-datasets-for-natural-language-processing-and-machine-learning-all-pbm/\n",
    "Twitter Datasets - Popular terms: \n",
    "This data consists of 2 columns, one column for the term itself, and one for the number of tweets the term was used in.  It doesn't have any missing entries or weird formatting.  It's availible in a csv file and also could probably be converted to JSON easily.  This information could be used to see what keywords are the most popular during the past year.  The data is easily accessable and there aren't any restrictions on using the data that I have found.  There isn't any issues or challenges that I can see with accessing and using the data.\n"
   ]
  },
  {
   "cell_type": "code",
   "execution_count": null,
   "id": "1cf00835-db6c-45e1-8ef2-722b612b6c4e",
   "metadata": {},
   "outputs": [],
   "source": []
  }
 ],
 "metadata": {
  "kernelspec": {
   "display_name": "Python 3 (ipykernel)",
   "language": "python",
   "name": "python3"
  },
  "language_info": {
   "codemirror_mode": {
    "name": "ipython",
    "version": 3
   },
   "file_extension": ".py",
   "mimetype": "text/x-python",
   "name": "python",
   "nbconvert_exporter": "python",
   "pygments_lexer": "ipython3",
   "version": "3.10.13"
  }
 },
 "nbformat": 4,
 "nbformat_minor": 5
}
